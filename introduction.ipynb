{
 "cells": [
  {
   "cell_type": "code",
   "execution_count": null,
   "id": "295768f0",
   "metadata": {},
   "outputs": [],
   "source": [
    "x=1\n",
    "y=2\n",
    "z= x+y\n",
    "print(\"The sum of\", x, \"and\", y, \"is\", z)"
   ]
  }
 ],
 "metadata": {
  "kernelspec": {
   "display_name": ".venv",
   "language": "python",
   "name": "python3"
  },
  "language_info": {
   "name": "python",
   "version": "3.12.3"
  }
 },
 "nbformat": 4,
 "nbformat_minor": 5
}
