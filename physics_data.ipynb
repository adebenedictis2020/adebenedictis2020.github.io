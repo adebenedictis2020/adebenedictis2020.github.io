{
 "cells": [
  {
   "cell_type": "markdown",
   "id": "a4eaa7f5",
   "metadata": {},
   "source": [
    "# Physics Teacher Data Analysis\n",
    "\n",
    "Let's begin by exploring the physics teacher dataset and examining all available columns."
   ]
  },
  {
   "cell_type": "code",
   "execution_count": null,
   "id": "433c1dea",
   "metadata": {},
   "outputs": [
    {
     "ename": "",
     "evalue": "",
     "output_type": "error",
     "traceback": [
      "\u001b[1;31mRunning cells with '.venv (Python 3.12.3)' requires the ipykernel package.\n",
      "\u001b[1;31mInstall 'ipykernel' into the Python environment. \n",
      "\u001b[1;31mCommand: 'c:/Users/adamd/Desktop/adebenedictis2020.github.io/.venv/Scripts/python.exe -m pip install ipykernel -U --force-reinstall'"
     ]
    }
   ],
   "source": [
    "# Import necessary libraries\n",
    "import pandas as pd\n",
    "import numpy as np\n",
    "import matplotlib.pyplot as plt\n",
    "\n",
    "# Display all columns without truncation\n",
    "pd.set_option('display.max_columns', None)\n",
    "pd.set_option('display.width', None)\n",
    "pd.set_option('display.max_colwidth', None)"
   ]
  },
  {
   "cell_type": "code",
   "execution_count": null,
   "id": "4c9fec17",
   "metadata": {},
   "outputs": [],
   "source": [
    "# Load the physics teacher data\n",
    "# Note: Replace 'physics_data.csv' with the actual filename/path of your data\n",
    "try:\n",
    "    df = pd.read_csv('physics_data.csv')\n",
    "    print(\"Data loaded successfully!\")\n",
    "    print(f\"Dataset shape: {df.shape}\")\n",
    "    print(\"\\n\" + \"=\"*50)\n",
    "    print(\"ALL COLUMNS IN THE DATASET:\")\n",
    "    print(\"=\"*50)\n",
    "    \n",
    "    # Print all column names\n",
    "    for i, column in enumerate(df.columns, 1):\n",
    "        print(f\"{i:2d}. {column}\")\n",
    "    \n",
    "    print(f\"\\nTotal number of columns: {len(df.columns)}\")\n",
    "    \n",
    "except FileNotFoundError:\n",
    "    print(\"File not found. Please check the filename and path.\")\n",
    "    print(\"Available files in current directory:\")\n",
    "    import os\n",
    "    files = [f for f in os.listdir('.') if f.endswith(('.csv', '.xlsx', '.json'))]\n",
    "    for file in files:\n",
    "        print(f\"  - {file}\")"
   ]
  }
 ],
 "metadata": {
  "kernelspec": {
   "display_name": ".venv",
   "language": "python",
   "name": "python3"
  },
  "language_info": {
   "name": "python",
   "version": "3.12.3"
  }
 },
 "nbformat": 4,
 "nbformat_minor": 5
}
